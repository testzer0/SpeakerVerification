{
  "cells": [
    {
      "cell_type": "code",
      "execution_count": null,
      "metadata": {
        "id": "A3f1HTlBqtKg"
      },
      "outputs": [],
      "source": [
        "# pip installs go here"
      ]
    },
    {
      "cell_type": "code",
      "execution_count": null,
      "metadata": {
        "colab": {
          "base_uri": "https://localhost:8080/"
        },
        "id": "lXFVEfX3qyxt",
        "outputId": "8fed65f4-6b84-4cb3-93d3-765da55c6d33"
      },
      "outputs": [
        {
          "output_type": "stream",
          "name": "stdout",
          "text": [
            "Drive already mounted at /content/gdrive; to attempt to forcibly remount, call drive.mount(\"/content/gdrive\", force_remount=True).\n"
          ]
        }
      ],
      "source": [
        "# imports go here\n",
        "import os\n",
        "import pickle\n",
        "import numpy as np\n",
        "import librosa\n",
        "import random\n",
        "import soundfile as sf\n",
        "import time\n",
        "import re\n",
        "import datetime\n",
        "import math\n",
        "from sklearn.model_selection import train_test_split\n",
        "import matplotlib.pyplot as plt\n",
        "\n",
        "import torch\n",
        "from torch import nn\n",
        "from torch.nn.utils import clip_grad_norm_\n",
        "from torch.optim import AdamW\n",
        "from torch.utils.data import TensorDataset, DataLoader, Dataset, RandomSampler\n",
        "\n",
        "from google.colab import drive\n",
        "drive.mount('/content/gdrive')"
      ]
    },
    {
      "cell_type": "code",
      "execution_count": null,
      "metadata": {
        "id": "H2NQ96-qq-BG"
      },
      "outputs": [],
      "source": [
        "# global variables go here\n",
        "TIMIT_ROOT = \"/content/gdrive/MyDrive/TIMIT/data\"\n",
        "LOGMEL_ROOT = \"/content/gdrive/MyDrive/TIMIT/data/logmels/\"\n",
        "CHECKPT_DIR = \"/content/gdrive/MyDrive/TIMIT/SV-checkpts\"\n",
        "\n",
        "num_frames = 180                # Number of frames after preprocessing\n",
        "hop = 0.01                      # Hop length in s\n",
        "window = 0.025                  # Window size in s\n",
        "n_fft = 512                     # Length of windowed signal after padding\n",
        "sr = 16000                      # Sampling rate\n",
        "win_length = int(window * sr)   # Window length\n",
        "hop_length = int(hop * sr)      # Hop length\n",
        "n_mels = 40                     # Number of Mel bands\n",
        "epsilon = 1e-8                  # Small amount to add to avoid taking log of 0\n",
        "\n",
        "n_hidden = 768                  # Dimensionality of LSTM outputs\n",
        "n_projection = 256              # Dimensionality after projection\n",
        "num_layers = 3                  # Number of LSTM layers\n",
        "n_speakers = 3                  # Number of speakers per batch\n",
        "n_utterances_per_speaker = 10   # Number of utterances per speaker each batch\n",
        "\n",
        "BATCH_SIZE = 16                 # Batch size\n",
        "NUM_EPOCHS = 10                 # Number of epochs\n",
        "\n",
        "force_restart_training = False  # Force training to restart from epoch 0\n",
        "save = True                     # Whether to save model parameters\n",
        "load_opts = True                # Load optimizer states along with model param values\n",
        "halve_after_every = 12          # Number of epochs after which to halve learning rate"
      ]
    },
    {
      "cell_type": "markdown",
      "metadata": {
        "id": "Fkb9ODbKrCo2"
      },
      "source": [
        "## Dataset"
      ]
    },
    {
      "cell_type": "code",
      "execution_count": null,
      "metadata": {
        "id": "2V67lDWbrCE7"
      },
      "outputs": [],
      "source": [
        "def get_spectrograms_for_file(file_path):\n",
        "  \"\"\"\n",
        "  Returns the log mel specrogram's first and last n_frames frames for each \"portion\". \n",
        "  Implementation is based on \n",
        "  https://github.com/HarryVolek/PyTorch_Speaker_Verification/blob/master/data_preprocess.py.\n",
        "  \"\"\"\n",
        "  min_length = (num_frames*hop + window)*sr\n",
        "  # Load the audio\n",
        "  y, _ = librosa.load(file_path, sr=sr)\n",
        "  # Split the audio into non-silent intervals. \n",
        "  # Reference implementation takes top_db (thresh for silence) to be 30, but librosa\n",
        "  # default is 60.\n",
        "  intervals = librosa.effects.split(y, top_db=30)\n",
        "  extracted = []\n",
        "  for i in range(intervals.shape[0]):\n",
        "    begin = intervals[i][0]\n",
        "    end = intervals[i][1]\n",
        "    if end - begin <= min_length:\n",
        "      continue\n",
        "    # Extract relevant portion of wav\n",
        "    yp = y[begin:end]\n",
        "    # Perform STFT\n",
        "    stft = librosa.stft(y=yp, n_fft=n_fft, win_length=win_length, hop_length=hop_length)\n",
        "    # Squared magnitude of stft - abs necessary because complex\n",
        "    sqmag = np.abs(stft) ** 2\n",
        "    # Get mel basis\n",
        "    M = librosa.filters.mel(sr=sr, n_fft=n_fft, n_mels=n_mels)\n",
        "    # Extract log mel spectrogram\n",
        "    logmel = np.log10(np.dot(M, sqmag) + epsilon)\n",
        "    # Return the first and last n_frames frames\n",
        "    extracted.append(logmel[:, :num_frames])\n",
        "    extracted.append(logmel[:, -num_frames:])\n",
        "  return extracted\n",
        "\n",
        "def get_spectrograms_for_speaker(speaker_dir):\n",
        "  \"\"\"\n",
        "  Given a directory with a speaker's utterances, returns the concatenated list\n",
        "  of extracted log mel features from them *after* converting it into a numpy array.\n",
        "  \"\"\"\n",
        "  extracted = []\n",
        "  for fname in os.listdir(speaker_dir):\n",
        "    if fname.endswith(\".WAV.wav\"):\n",
        "      extracted += get_spectrograms_for_file(os.path.join(speaker_dir, fname))\n",
        "  return np.array(extracted)\n",
        "\n",
        "def save_spectrograms(splits = [\"TRAIN\", \"TEST\"]):\n",
        "  \"\"\"\n",
        "  Call only once. Goes through each speaker dir and saves the generated spectrograms\n",
        "  under LOGMEL_ROOT/{split}\n",
        "  \"\"\"\n",
        "  for split in splits:\n",
        "    split_data_dir = os.path.join(TIMIT_ROOT, split)\n",
        "    split_logmel_dir = os.path.join(LOGMEL_ROOT, split)\n",
        "    for DR in os.listdir(split_data_dir):\n",
        "      DR_dir = os.path.join(split_data_dir, DR)\n",
        "      for speaker in os.listdir(DR_dir):\n",
        "        extracted = get_spectrograms_for_speaker(os.path.join(DR_dir, speaker))\n",
        "        out_file = os.path.join(split_logmel_dir, \"{}.npy\".format(speaker))\n",
        "        np.save(open(out_file, 'wb+'), extracted)\n",
        "\n",
        "def load_data(splits = [\"TRAIN\", \"TEST\"], min_samples=4):\n",
        "  \"\"\"\n",
        "  Loads the dataset -- removes all speakers with < 4 examples.\n",
        "  \"\"\"\n",
        "  data = {}\n",
        "  for split in splits:\n",
        "    part = []\n",
        "    ldir = os.path.join(LOGMEL_ROOT, split)\n",
        "    for fname in os.listdir(ldir):\n",
        "      if not fname.endswith(\".npy\"):\n",
        "        continue\n",
        "      narray = np.load(open(os.path.join(ldir, fname), \"rb\"))\n",
        "      if narray.shape[0] < min_samples:\n",
        "        continue\n",
        "      part.append(narray)\n",
        "    data[split] = part\n",
        "  return data"
      ]
    },
    {
      "cell_type": "code",
      "execution_count": null,
      "metadata": {
        "id": "rrH5w2LMGlbv"
      },
      "outputs": [],
      "source": [
        "class SpeakerVerificationDataset(Dataset):\n",
        "  def __init__(self, logmels, n_speakers=n_speakers, \\\n",
        "    n_samples_per_speaker=n_utterances_per_speaker, total_examples=80000):\n",
        "    \"\"\"\n",
        "    total_examples is the number of examples drawn per epoch\n",
        "    \"\"\"\n",
        "    self.logmels = logmels\n",
        "    self.n_total_speakers = len(self.logmels)\n",
        "    self.n_speakers = n_speakers\n",
        "    self.n_samples_per_speaker = n_samples_per_speaker\n",
        "    self.total_examples = total_examples\n",
        "\n",
        "  def __len__(self):\n",
        "    return self.total_examples\n",
        "\n",
        "  def __getitem__(self, idx):\n",
        "    \"\"\"\n",
        "    For now we simply ignore idx and return a random sample\n",
        "    \"\"\"\n",
        "    # First, select n different random speakers\n",
        "    # Use the commented code when number of speakers is more\n",
        "    # speakers = np.random.permutation(self.n_total_speakers)[:self.n_speakers]\n",
        "    speakers = []\n",
        "    while len(speakers) < self.n_speakers:\n",
        "      speaker = random.randint(0, self.n_total_speakers-1)\n",
        "      if speaker not in speakers:\n",
        "        speakers.append(speaker)\n",
        "    data = []\n",
        "    for speaker in speakers:\n",
        "      # We may have as low as 8-10 (up to 28) examples per speaker, and we want to choose\n",
        "      # 4-10 of them. A permutation likely avoids the otherwise many tries.\n",
        "      utter_idxs = np.random.permutation(self.logmels[speaker].shape[0])[:self.n_samples_per_speaker]\n",
        "      utterances = torch.from_numpy(self.logmels[speaker][utter_idxs, :, :])\n",
        "      data.append(utterances)\n",
        "    item = torch.stack(data)\n",
        "    # Currently have (speaker, utterance, mel, frames)\n",
        "    # Reorder to (speaker, utterance, frames, mel)\n",
        "    return torch.permute(item, (0,1,3,2))"
      ]
    },
    {
      "cell_type": "code",
      "execution_count": null,
      "metadata": {
        "id": "RRajZQSYLgjF"
      },
      "outputs": [],
      "source": [
        "data = load_data(min_samples=n_utterances_per_speaker)\n",
        "train_dataset = SpeakerVerificationDataset(data['TRAIN'])\n",
        "test_dataset = SpeakerVerificationDataset(data['TEST'], total_examples=8000)\n",
        "train_dataloader = DataLoader(train_dataset, batch_size=BATCH_SIZE)\n",
        "test_dataloader = DataLoader(test_dataset, batch_size=BATCH_SIZE)"
      ]
    },
    {
      "cell_type": "code",
      "execution_count": null,
      "metadata": {
        "id": "NfWdopDvNHMt"
      },
      "outputs": [],
      "source": [
        "class SpeakerEmbedder(nn.Module):\n",
        "  \"\"\"\n",
        "  The input to this model is of shape (batch_size*N*M, frames, mel)\n",
        "  \"\"\"\n",
        "  def __init__(self):\n",
        "    super(SpeakerEmbedder, self).__init__()\n",
        "    self.LSTMs = nn.LSTM(input_size=n_mels, hidden_size=n_hidden, \\\n",
        "                         num_layers=num_layers, batch_first=True)\n",
        "    self.FC = nn.Linear(n_hidden, n_projection)\n",
        "\n",
        "  def forward(self, x):\n",
        "    LSTMs_out, _ = self.LSTMs(x)\n",
        "    # Current shape is (batch_size*N*M, n_timesteps, n_hidden)\n",
        "    # Need only the last time step\n",
        "    last_out = LSTMs_out[:, LSTMs_out.size(1)-1]\n",
        "    # Now the shape is (batch_size*N*M, n_hidden)\n",
        "    FC_out = self.FC(last_out)\n",
        "    # Normalize each \"row\"\n",
        "    FC_out = FC_out / torch.linalg.norm(FC_out, axis=1).unsqueeze(axis=1)\n",
        "    return FC_out\n",
        "\n",
        "class LossModule(nn.Module):\n",
        "  # Values taken from \n",
        "  # https://github.com/HarryVolek/PyTorch_Speaker_Verification/blob/master/speech_embedder_net.py\n",
        "  def __init__(self):\n",
        "    super(LossModule, self).__init__()\n",
        "    self.w = nn.Parameter(torch.tensor(10.0), requires_grad=True)\n",
        "    self.b = nn.Parameter(torch.tensor(-5.0), requires_grad=True)\n",
        "\n",
        "  def forward(self, embeddings):\n",
        "    # The input should be in the shape (batch_size, N, M, n_projection)\n",
        "    # First get the centroids\n",
        "    centroids = torch.mean(embeddings, dim=2)\n",
        "    N = embeddings.shape[1]\n",
        "    M = embeddings.shape[2]\n",
        "    S = torch.zeros(BATCH_SIZE, N, M, N)\n",
        "    loss = 0\n",
        "    # Good old loops, here we come...\n",
        "    for b in range(BATCH_SIZE):\n",
        "      for j in range(N):\n",
        "        for i in range(M):\n",
        "          for k in range(N):\n",
        "            if j == k:\n",
        "              # In this case recompute centroid to not include current example\n",
        "              centroid = (M*centroids[b,k] - embeddings[b,j,i]) / (M-1)\n",
        "            else:\n",
        "              centroid = centroids[b,k]\n",
        "            S[b,j,i,k] = self.w*torch.dot(embeddings[b,j,i], centroid) + self.b\n",
        "            if j == k:\n",
        "              loss -= S[b,j,i,k]\n",
        "    expsum = torch.sum(torch.exp(S), axis=-1)\n",
        "    loss += torch.sum(torch.log(expsum))\n",
        "    return loss"
      ]
    },
    {
      "cell_type": "code",
      "execution_count": null,
      "metadata": {
        "id": "IC7G8g5598B8"
      },
      "outputs": [],
      "source": [
        "embedder = SpeakerEmbedder()\n",
        "lossmodule = LossModule()\n",
        "embedder_optimizer = AdamW(embedder.parameters(), lr=1e-3, eps=epsilon)\n",
        "lossmodule_optimizer = AdamW(lossmodule.parameters(), lr=1e-3, eps=epsilon)"
      ]
    },
    {
      "cell_type": "code",
      "execution_count": null,
      "metadata": {
        "colab": {
          "base_uri": "https://localhost:8080/"
        },
        "id": "rbz7mgZRH93P",
        "outputId": "fa5a6097-ad3c-421e-d126-1860826e4d98"
      },
      "outputs": [
        {
          "output_type": "stream",
          "name": "stdout",
          "text": [
            "Using GPU: Tesla T4\n"
          ]
        }
      ],
      "source": [
        "if torch.cuda.is_available():\n",
        "  print(\"Using GPU: {}\".format(torch.cuda.get_device_name(0)))\n",
        "  device = torch.device(\"cuda\")\n",
        "  embedder.cuda()\n",
        "  lossmodule.cuda()\n",
        "else:\n",
        "  print(\"No GPUs available, using CPU\")\n",
        "  device = torch.device(\"cpu\")"
      ]
    },
    {
      "cell_type": "code",
      "execution_count": null,
      "metadata": {
        "id": "MLM1InsOJnw9"
      },
      "outputs": [],
      "source": [
        "def format_time(elapsed):\n",
        "  elapsed_rounded = int(round(elapsed))\n",
        "  return str(datetime.timedelta(seconds=elapsed_rounded))\n",
        "\n",
        "def get_max_checkpt(checkpt_dir):\n",
        "  max_checkpt = 0\n",
        "  for filename in os.listdir(checkpt_dir):\n",
        "    if re.match(r\"checkpt-embedder-([0-9]+).pt\", filename):\n",
        "      checkpt_num = int(filename.split('.')[-2].split('-')[-1])\n",
        "      if checkpt_num > max_checkpt:\n",
        "        max_checkpt = checkpt_num\n",
        "  return max_checkpt\n",
        "\n",
        "def load_latest_checkpt(checkpt_dir=CHECKPT_DIR):\n",
        "  if force_restart_training:\n",
        "    return 0\n",
        "  mx_checkpt = get_max_checkpt(checkpt_dir)\n",
        "  if mx_checkpt > 0:\n",
        "    embedder_path = os.path.join(checkpt_dir, \"checkpt-embedder-{}.pt\".format(mx_checkpt))\n",
        "    lossmodule_path = os.path.join(checkpt_dir, \"checkpt-lossmodule-{}.pt\".format(mx_checkpt))\n",
        "    embedder_opt_path = os.path.join(checkpt_dir, \"checkpt-eopt-{}.pt\".format(mx_checkpt))\n",
        "    lossmodule_opt_path = os.path.join(checkpt_dir, \"checkpt-lopt-{}.pt\".format(mx_checkpt))\n",
        "    embedder.load_state_dict(torch.load(embedder_path))\n",
        "    lossmodule.load_state_dict(torch.load(lossmodule_path))\n",
        "    if load_opts:\n",
        "      embedder_optimizer.load_state_dict(torch.load(embedder_opt_path))\n",
        "      lossmodule_optimizer.load_state_dict(torch.load(lossmodule_opt_path))\n",
        "  return mx_checkpt"
      ]
    },
    {
      "cell_type": "code",
      "execution_count": null,
      "metadata": {
        "id": "QKHn0jfDEzwL"
      },
      "outputs": [],
      "source": [
        "def train_models():\n",
        "  start_epoch = load_latest_checkpt()\n",
        "  for epoch in range(start_epoch, NUM_EPOCHS):\n",
        "    print(\"============ Epoch {} / {} ============\".format(epoch+1, NUM_EPOCHS))\n",
        "    print(\"Training phase\")\n",
        "    epoch_loss = 0.0\n",
        "    embedder.train()\n",
        "    lossmodule.train()\n",
        "    epoch_start = time.time()\n",
        "    if (epoch+1) % halve_after_every == 0:\n",
        "      for param_group in embedder_optimizer.param_groups:\n",
        "        param_group['lr'] /= 2\n",
        "      for param_group in lossmodule_optimizer.param_groups:\n",
        "        param_group['lr'] /= 2\n",
        "    for step, batch in enumerate(train_dataloader):\n",
        "      batch = batch.to(device)\n",
        "      if step % 40 == 0 and step != 0:\n",
        "        elapsed = format_time(time.time() - epoch_start)\n",
        "        print(\"Batch {} of {}. Elapsed {}\".format(step, len(train_dataloader), elapsed))\n",
        "      N = batch.shape[1]\n",
        "      M = batch.shape[2]\n",
        "      embedder_in = batch.reshape(BATCH_SIZE*N*M, batch.shape[3], batch.shape[4])\n",
        "      embedder.zero_grad()\n",
        "      lossmodule.zero_grad()\n",
        "      embeddings = embedder(embedder_in)\n",
        "      embeddings = embeddings.reshape(BATCH_SIZE, N, M, n_projection)\n",
        "      loss = lossmodule(embeddings)\n",
        "      loss.backward()\n",
        "      epoch_loss += loss.detach()\n",
        "      clip_grad_norm_(embedder.parameters(), 3.0)\n",
        "      clip_grad_norm_(lossmodule.parameters(), 1.0)\n",
        "      embedder_optimizer.step()\n",
        "      lossmodule_optimizer.step()\n",
        "    epoch_loss /= len(train_dataloader) * BATCH_SIZE\n",
        "    print(\"Epoch finished. Average training loss: {}\".format(epoch_loss))\n",
        "\n",
        "    if save:\n",
        "      embedder_path = os.path.join(CHECKPT_DIR, \"checkpt-embedder-{}.pt\".format(epoch+1))\n",
        "      lossmodule_path = os.path.join(CHECKPT_DIR, \"checkpt-lossmodule-{}.pt\".format(epoch+1))\n",
        "      embedder_opt_path = os.path.join(CHECKPT_DIR, \"checkpt-eopt-{}.pt\".format(epoch+1))\n",
        "      lossmodule_opt_path = os.path.join(CHECKPT_DIR, \"checkpt-lopt-{}.pt\".format(epoch+1))\n",
        "      torch.save(embedder.state_dict(), embedder_path)\n",
        "      torch.save(lossmodule.state_dict(), lossmodule_path)\n",
        "      torch.save(embedder_optimizer.state_dict(), embedder_opt_path)\n",
        "      torch.save(lossmodule_optimizer.state_dict(), lossmodule_opt_path)"
      ]
    },
    {
      "cell_type": "code",
      "execution_count": null,
      "metadata": {
        "colab": {
          "background_save": true
        },
        "id": "hwzhNvKpIbZE"
      },
      "outputs": [],
      "source": [
        "train_models()"
      ]
    },
    {
      "cell_type": "code",
      "source": [
        "def load_model_from_checkpt(checkpt_no):\n",
        "  embedder_path = os.path.join(CHECKPT_DIR, \"checkpt-embedder-{}.pt\".format(checkpt_no))\n",
        "  lossmodule_path = os.path.join(CHECKPT_DIR, \"checkpt-lossmodule-{}.pt\".format(checkpt_no))\n",
        "  embedder.load_state_dict(torch.load(embedder_path))\n",
        "  lossmodule.load_state_dict(torch.load(lossmodule_path))\n",
        "\n",
        "def get_similarity_metrics(examples, n_same=3200, n_different=4800, seed=None):\n",
        "  if n_same % BATCH_SIZE != 0 or n_different % BATCH_SIZE != 0:\n",
        "    print(\"For now we require 2*n_same and 2*n_not_same to be divisible by BATCH_SIZE\")\n",
        "    return [], []\n",
        "  if BATCH_SIZE % 2 != 0:\n",
        "    print(\"Odd batch sizes are not supported for this function\")\n",
        "    return [], []\n",
        "  embedder.eval()\n",
        "  same_scores = []\n",
        "  different_scores = []\n",
        "  n_examples_per_batch = int(BATCH_SIZE / 2)\n",
        "  n_same_batches = int(2*n_same / BATCH_SIZE)\n",
        "  n_different_batches = int(2*n_different / BATCH_SIZE)\n",
        "  n_speakers = len(examples)\n",
        "\n",
        "  if seed is not None:\n",
        "    random.seed(seed)\n",
        "\n",
        "  for b in range(n_same_batches):\n",
        "    if b != 0 and b % 20 == 0:\n",
        "      print(\"{} / {} batches done in the same portion\".format(b, n_same_batches))\n",
        "    utts = []\n",
        "    for i in range(n_examples_per_batch):\n",
        "      # Select a random speaker\n",
        "      speaker = random.randint(0, n_speakers-1)\n",
        "      # Get two different utterances for this speaker\n",
        "      utt1 = random.randint(0, examples[speaker].shape[0]-1)\n",
        "      utt2 = random.randint(0, examples[speaker].shape[0]-1)\n",
        "      while utt2 == utt1:\n",
        "        utt2 = random.randint(0, examples[speaker].shape[0]-1)\n",
        "      utts.append(torch.from_numpy(examples[speaker][utt1]))\n",
        "      utts.append(torch.from_numpy(examples[speaker][utt2]))\n",
        "    utts = torch.stack(utts)\n",
        "    utts = torch.permute(utts, (0,2,1)).to(device)\n",
        "    with torch.no_grad():\n",
        "      reps = embedder(utts)\n",
        "    for i in range(n_examples_per_batch):\n",
        "      similarity = torch.dot(reps[2*i], reps[2*i+1])\n",
        "      same_scores.append(similarity)\n",
        "\n",
        "  for b in range(n_different_batches):\n",
        "    if b != 0 and b % 20 == 0:\n",
        "      print(\"{} / {} batches done in the different portion\".format(b, n_different_batches))\n",
        "    utts = []\n",
        "    for i in range(n_examples_per_batch):\n",
        "      # Select two random speakers\n",
        "      speaker1 = random.randint(0, n_speakers-1)\n",
        "      speaker2 = random.randint(0, n_speakers-1)\n",
        "      while speaker2 == speaker1:\n",
        "        speaker2 = random.randint(0, n_speakers-1)\n",
        "      # Get an utterance from each\n",
        "      utt1 = random.randint(0, examples[speaker1].shape[0]-1)\n",
        "      utt2 = random.randint(0, examples[speaker2].shape[0]-1)\n",
        "      utts.append(torch.from_numpy(examples[speaker1][utt1]))\n",
        "      utts.append(torch.from_numpy(examples[speaker2][utt2]))\n",
        "    utts = torch.stack(utts)\n",
        "    utts = torch.permute(utts, (0,2,1)).to(device)\n",
        "    with torch.no_grad():\n",
        "      reps = embedder(utts)\n",
        "    for i in range(n_examples_per_batch):\n",
        "      similarity = torch.dot(reps[2*i], reps[2*i+1])\n",
        "      different_scores.append(similarity)\n",
        "\n",
        "  return sorted(same_scores), sorted(different_scores)"
      ],
      "metadata": {
        "id": "5W_0_tZf8rfM"
      },
      "execution_count": null,
      "outputs": []
    },
    {
      "cell_type": "code",
      "source": [
        "def get_false_accept_and_reject_rates(same_scores, different_scores, start=0, stop=1, step=0.01):\n",
        "  false_accept_rates = []\n",
        "  false_reject_rates = []\n",
        "  threshs = []\n",
        "  thresh = start\n",
        "  same_idx = 0\n",
        "  different_idx = 0\n",
        "  while thresh <= stop:\n",
        "    while same_idx < len(same_scores) and same_scores[same_idx] < thresh:\n",
        "      same_idx += 1\n",
        "    while different_idx < len(different_scores) and different_scores[different_idx] < thresh:\n",
        "      different_idx += 1\n",
        "    num_same_rejected = same_idx\n",
        "    num_different_accepted = len(different_scores) - different_idx\n",
        "    false_accept_rate = num_different_accepted / len(different_scores)\n",
        "    false_reject_rate = num_same_rejected / len(same_scores)\n",
        "    false_accept_rates.append(false_accept_rate)\n",
        "    false_reject_rates.append(false_reject_rate)\n",
        "    threshs.append(thresh)\n",
        "    thresh += step\n",
        "  return false_accept_rates, false_reject_rates, threshs\n",
        "\n",
        "def get_thresh_and_eer(fars, frrs, threshs):\n",
        "  n = len(threshs)\n",
        "  if n == 0:\n",
        "    return 0, 1\n",
        "  min_idx = 0\n",
        "  for i in range(1, n):\n",
        "    if abs(fars[i]-frrs[i]) < abs(fars[min_idx]-frrs[min_idx]):\n",
        "      min_idx = i\n",
        "  return threshs[min_idx], (fars[min_idx]+frrs[min_idx])/2"
      ],
      "metadata": {
        "id": "U-Eu8D_wDFNp"
      },
      "execution_count": null,
      "outputs": []
    },
    {
      "cell_type": "code",
      "source": [
        "load_model_from_checkpt(3)\n",
        "same_train_3, different_train_3 = get_similarity_metrics(data['TRAIN'], seed=2022)\n",
        "same_test_3, different_test_3 = get_similarity_metrics(data['TEST'], seed=2022)\n",
        "load_model_from_checkpt(10)\n",
        "same_train_10, different_train_10 = get_similarity_metrics(data['TRAIN'], seed=2022)\n",
        "same_test_10, different_test_10 = get_similarity_metrics(data['TEST'], seed=2022)"
      ],
      "metadata": {
        "colab": {
          "base_uri": "https://localhost:8080/"
        },
        "id": "Pe2nzYXKB_JT",
        "outputId": "73eaac1b-2268-4a3a-983b-b97829de7172"
      },
      "execution_count": null,
      "outputs": [
        {
          "output_type": "stream",
          "name": "stdout",
          "text": [
            "20 / 400 batches done in the same portion\n",
            "40 / 400 batches done in the same portion\n",
            "60 / 400 batches done in the same portion\n",
            "80 / 400 batches done in the same portion\n",
            "100 / 400 batches done in the same portion\n",
            "120 / 400 batches done in the same portion\n",
            "140 / 400 batches done in the same portion\n",
            "160 / 400 batches done in the same portion\n",
            "180 / 400 batches done in the same portion\n",
            "200 / 400 batches done in the same portion\n",
            "220 / 400 batches done in the same portion\n",
            "240 / 400 batches done in the same portion\n",
            "260 / 400 batches done in the same portion\n",
            "280 / 400 batches done in the same portion\n",
            "300 / 400 batches done in the same portion\n",
            "320 / 400 batches done in the same portion\n",
            "340 / 400 batches done in the same portion\n",
            "360 / 400 batches done in the same portion\n",
            "380 / 400 batches done in the same portion\n",
            "20 / 600 batches done in the different portion\n",
            "40 / 600 batches done in the different portion\n",
            "60 / 600 batches done in the different portion\n",
            "80 / 600 batches done in the different portion\n",
            "100 / 600 batches done in the different portion\n",
            "120 / 600 batches done in the different portion\n",
            "140 / 600 batches done in the different portion\n",
            "160 / 600 batches done in the different portion\n",
            "180 / 600 batches done in the different portion\n",
            "200 / 600 batches done in the different portion\n",
            "220 / 600 batches done in the different portion\n",
            "240 / 600 batches done in the different portion\n",
            "260 / 600 batches done in the different portion\n",
            "280 / 600 batches done in the different portion\n",
            "300 / 600 batches done in the different portion\n",
            "320 / 600 batches done in the different portion\n",
            "340 / 600 batches done in the different portion\n",
            "360 / 600 batches done in the different portion\n",
            "380 / 600 batches done in the different portion\n",
            "400 / 600 batches done in the different portion\n",
            "420 / 600 batches done in the different portion\n",
            "440 / 600 batches done in the different portion\n",
            "460 / 600 batches done in the different portion\n",
            "480 / 600 batches done in the different portion\n",
            "500 / 600 batches done in the different portion\n",
            "520 / 600 batches done in the different portion\n",
            "540 / 600 batches done in the different portion\n",
            "560 / 600 batches done in the different portion\n",
            "580 / 600 batches done in the different portion\n",
            "20 / 400 batches done in the same portion\n",
            "40 / 400 batches done in the same portion\n",
            "60 / 400 batches done in the same portion\n",
            "80 / 400 batches done in the same portion\n",
            "100 / 400 batches done in the same portion\n",
            "120 / 400 batches done in the same portion\n",
            "140 / 400 batches done in the same portion\n",
            "160 / 400 batches done in the same portion\n",
            "180 / 400 batches done in the same portion\n",
            "200 / 400 batches done in the same portion\n",
            "220 / 400 batches done in the same portion\n",
            "240 / 400 batches done in the same portion\n",
            "260 / 400 batches done in the same portion\n",
            "280 / 400 batches done in the same portion\n",
            "300 / 400 batches done in the same portion\n",
            "320 / 400 batches done in the same portion\n",
            "340 / 400 batches done in the same portion\n",
            "360 / 400 batches done in the same portion\n",
            "380 / 400 batches done in the same portion\n",
            "20 / 600 batches done in the different portion\n",
            "40 / 600 batches done in the different portion\n",
            "60 / 600 batches done in the different portion\n",
            "80 / 600 batches done in the different portion\n",
            "100 / 600 batches done in the different portion\n",
            "120 / 600 batches done in the different portion\n",
            "140 / 600 batches done in the different portion\n",
            "160 / 600 batches done in the different portion\n",
            "180 / 600 batches done in the different portion\n",
            "200 / 600 batches done in the different portion\n",
            "220 / 600 batches done in the different portion\n",
            "240 / 600 batches done in the different portion\n",
            "260 / 600 batches done in the different portion\n",
            "280 / 600 batches done in the different portion\n",
            "300 / 600 batches done in the different portion\n",
            "320 / 600 batches done in the different portion\n",
            "340 / 600 batches done in the different portion\n",
            "360 / 600 batches done in the different portion\n",
            "380 / 600 batches done in the different portion\n",
            "400 / 600 batches done in the different portion\n",
            "420 / 600 batches done in the different portion\n",
            "440 / 600 batches done in the different portion\n",
            "460 / 600 batches done in the different portion\n",
            "480 / 600 batches done in the different portion\n",
            "500 / 600 batches done in the different portion\n",
            "520 / 600 batches done in the different portion\n",
            "540 / 600 batches done in the different portion\n",
            "560 / 600 batches done in the different portion\n",
            "580 / 600 batches done in the different portion\n",
            "20 / 400 batches done in the same portion\n",
            "40 / 400 batches done in the same portion\n",
            "60 / 400 batches done in the same portion\n",
            "80 / 400 batches done in the same portion\n",
            "100 / 400 batches done in the same portion\n",
            "120 / 400 batches done in the same portion\n",
            "140 / 400 batches done in the same portion\n",
            "160 / 400 batches done in the same portion\n",
            "180 / 400 batches done in the same portion\n",
            "200 / 400 batches done in the same portion\n",
            "220 / 400 batches done in the same portion\n",
            "240 / 400 batches done in the same portion\n",
            "260 / 400 batches done in the same portion\n",
            "280 / 400 batches done in the same portion\n",
            "300 / 400 batches done in the same portion\n",
            "320 / 400 batches done in the same portion\n",
            "340 / 400 batches done in the same portion\n",
            "360 / 400 batches done in the same portion\n",
            "380 / 400 batches done in the same portion\n",
            "20 / 600 batches done in the different portion\n",
            "40 / 600 batches done in the different portion\n",
            "60 / 600 batches done in the different portion\n",
            "80 / 600 batches done in the different portion\n",
            "100 / 600 batches done in the different portion\n",
            "120 / 600 batches done in the different portion\n",
            "140 / 600 batches done in the different portion\n",
            "160 / 600 batches done in the different portion\n",
            "180 / 600 batches done in the different portion\n",
            "200 / 600 batches done in the different portion\n",
            "220 / 600 batches done in the different portion\n",
            "240 / 600 batches done in the different portion\n",
            "260 / 600 batches done in the different portion\n",
            "280 / 600 batches done in the different portion\n",
            "300 / 600 batches done in the different portion\n",
            "320 / 600 batches done in the different portion\n",
            "340 / 600 batches done in the different portion\n",
            "360 / 600 batches done in the different portion\n",
            "380 / 600 batches done in the different portion\n",
            "400 / 600 batches done in the different portion\n",
            "420 / 600 batches done in the different portion\n",
            "440 / 600 batches done in the different portion\n",
            "460 / 600 batches done in the different portion\n",
            "480 / 600 batches done in the different portion\n",
            "500 / 600 batches done in the different portion\n",
            "520 / 600 batches done in the different portion\n",
            "540 / 600 batches done in the different portion\n",
            "560 / 600 batches done in the different portion\n",
            "580 / 600 batches done in the different portion\n",
            "20 / 400 batches done in the same portion\n",
            "40 / 400 batches done in the same portion\n",
            "60 / 400 batches done in the same portion\n",
            "80 / 400 batches done in the same portion\n",
            "100 / 400 batches done in the same portion\n",
            "120 / 400 batches done in the same portion\n",
            "140 / 400 batches done in the same portion\n",
            "160 / 400 batches done in the same portion\n",
            "180 / 400 batches done in the same portion\n",
            "200 / 400 batches done in the same portion\n",
            "220 / 400 batches done in the same portion\n",
            "240 / 400 batches done in the same portion\n",
            "260 / 400 batches done in the same portion\n",
            "280 / 400 batches done in the same portion\n",
            "300 / 400 batches done in the same portion\n",
            "320 / 400 batches done in the same portion\n",
            "340 / 400 batches done in the same portion\n",
            "360 / 400 batches done in the same portion\n",
            "380 / 400 batches done in the same portion\n",
            "20 / 600 batches done in the different portion\n",
            "40 / 600 batches done in the different portion\n",
            "60 / 600 batches done in the different portion\n",
            "80 / 600 batches done in the different portion\n",
            "100 / 600 batches done in the different portion\n",
            "120 / 600 batches done in the different portion\n",
            "140 / 600 batches done in the different portion\n",
            "160 / 600 batches done in the different portion\n",
            "180 / 600 batches done in the different portion\n",
            "200 / 600 batches done in the different portion\n",
            "220 / 600 batches done in the different portion\n",
            "240 / 600 batches done in the different portion\n",
            "260 / 600 batches done in the different portion\n",
            "280 / 600 batches done in the different portion\n",
            "300 / 600 batches done in the different portion\n",
            "320 / 600 batches done in the different portion\n",
            "340 / 600 batches done in the different portion\n",
            "360 / 600 batches done in the different portion\n",
            "380 / 600 batches done in the different portion\n",
            "400 / 600 batches done in the different portion\n",
            "420 / 600 batches done in the different portion\n",
            "440 / 600 batches done in the different portion\n",
            "460 / 600 batches done in the different portion\n",
            "480 / 600 batches done in the different portion\n",
            "500 / 600 batches done in the different portion\n",
            "520 / 600 batches done in the different portion\n",
            "540 / 600 batches done in the different portion\n",
            "560 / 600 batches done in the different portion\n",
            "580 / 600 batches done in the different portion\n"
          ]
        }
      ]
    },
    {
      "cell_type": "code",
      "source": [
        "fars_train_3, frrs_train_3, threshs_train_3 = get_false_accept_and_reject_rates(same_train_3, different_train_3)\n",
        "fars_test_3, frrs_test_3, threshs_test_3 = get_false_accept_and_reject_rates(same_test_3, different_test_3)\n",
        "fars_train_10, frrs_train_10, threshs_train_10 = get_false_accept_and_reject_rates(same_train_10, different_train_10)\n",
        "fars_test_10, frrs_test_10, threshs_test_10 = get_false_accept_and_reject_rates(same_test_10, different_test_10)\n",
        "\n",
        "thresh_train_3, eer_train_3 = get_thresh_and_eer(fars_train_3, frrs_train_3, threshs_train_3)\n",
        "print(\"Epoch 3's checkpoint - Train: EER {} at threshold {}\".format(eer_train_3, thresh_train_3))\n",
        "thresh_test_3, eer_test_3 = get_thresh_and_eer(fars_test_3, frrs_test_3, threshs_test_3)\n",
        "print(\"Epoch 3's checkpoint - Test: EER {} at threshold {}\".format(eer_test_3, thresh_test_3))\n",
        "thresh_train_10, eer_train_10 = get_thresh_and_eer(fars_train_10, frrs_train_10, threshs_train_10)\n",
        "print(\"Epoch 10's checkpoint - Train: EER {} at threshold {}\".format(eer_train_10, thresh_train_10))\n",
        "thresh_test_10, eer_test_10 = get_thresh_and_eer(fars_test_10, frrs_test_10, threshs_test_10)\n",
        "print(\"Epoch 10's checkpoint - Test: EER {} at threshold {}\".format(eer_test_10, thresh_test_10))"
      ],
      "metadata": {
        "colab": {
          "base_uri": "https://localhost:8080/"
        },
        "id": "mTNiAiraFk7U",
        "outputId": "1193daf7-1d8d-4532-d5bd-c743ab7fa8fe"
      },
      "execution_count": null,
      "outputs": [
        {
          "output_type": "stream",
          "name": "stdout",
          "text": [
            "Epoch 3's checkpoint - Train: EER 0.03338541666666667 at threshold 0.5500000000000003\n",
            "Epoch 3's checkpoint - Test: EER 0.08135416666666667 at threshold 0.4200000000000002\n",
            "Epoch 10's checkpoint - Train: EER 0.012552083333333332 at threshold 0.5400000000000003\n",
            "Epoch 10's checkpoint - Test: EER 0.1003125 at threshold 0.3100000000000001\n"
          ]
        }
      ]
    },
    {
      "cell_type": "code",
      "source": [
        "plt.title(\"False Acceptance and Rejection Rate v/s Threshold - Epoch 3: Train\")\n",
        "plt.plot(threshs_train_3, fars_train_3, label=\"False Acceptance Rate\")\n",
        "plt.plot(threshs_train_3, frrs_train_3, label=\"False Rejection Rate\")\n",
        "plt.xlabel(\"Threshold Value\")\n",
        "plt.ylabel(\"Rate\")\n",
        "plt.legend()\n",
        "plt.show()"
      ],
      "metadata": {
        "colab": {
          "base_uri": "https://localhost:8080/",
          "height": 295
        },
        "id": "byUe4_SiFqDG",
        "outputId": "ec958967-1b37-412d-ab7f-58e88966260e"
      },
      "execution_count": null,
      "outputs": [
        {
          "output_type": "display_data",
          "data": {
            "text/plain": [
              "<Figure size 432x288 with 1 Axes>"
            ],
            "image/png": "[encoded data removed]"
          },
          "metadata": {
            "needs_background": "light"
          }
        }
      ]
    },
    {
      "cell_type": "code",
      "source": [
        "plt.title(\"False Acceptance and Rejection Rate v/s Threshold - Epoch 3: Test\")\n",
        "plt.plot(threshs_test_3, fars_test_3, label=\"False Acceptance Rate\")\n",
        "plt.plot(threshs_test_3, frrs_test_3, label=\"False Rejection Rate\")\n",
        "plt.xlabel(\"Threshold Value\")\n",
        "plt.ylabel(\"Rate\")\n",
        "plt.legend()\n",
        "plt.show()"
      ],
      "metadata": {
        "colab": {
          "base_uri": "https://localhost:8080/",
          "height": 295
        },
        "id": "deV0x0T4IlD5",
        "outputId": "48602941-6238-4a44-b51d-cf388e09b8b8"
      },
      "execution_count": null,
      "outputs": [
        {
          "output_type": "display_data",
          "data": {
            "text/plain": [
              "<Figure size 432x288 with 1 Axes>"
            ],
            "image/png": "[encoded data removed]"
          },
          "metadata": {
            "needs_background": "light"
          }
        }
      ]
    },
    {
      "cell_type": "code",
      "source": [
        "plt.title(\"False Acceptance and Rejection Rate v/s Threshold - Epoch 10: Train\")\n",
        "plt.plot(threshs_train_10, fars_train_10, label=\"False Acceptance Rate\")\n",
        "plt.plot(threshs_train_10, frrs_train_10, label=\"False Rejection Rate\")\n",
        "plt.xlabel(\"Threshold Value\")\n",
        "plt.ylabel(\"Rate\")\n",
        "plt.legend()\n",
        "plt.show()"
      ],
      "metadata": {
        "colab": {
          "base_uri": "https://localhost:8080/",
          "height": 295
        },
        "id": "T6td_4MVIpuM",
        "outputId": "70cd8af1-4427-4e30-ee15-faf935b36319"
      },
      "execution_count": null,
      "outputs": [
        {
          "output_type": "display_data",
          "data": {
            "text/plain": [
              "<Figure size 432x288 with 1 Axes>"
            ],
            "image/png": "[encoded data removed]"
          },
          "metadata": {
            "needs_background": "light"
          }
        }
      ]
    },
    {
      "cell_type": "code",
      "source": [
        "plt.title(\"False Acceptance and Rejection Rate v/s Threshold - Epoch 10: Test\")\n",
        "plt.plot(threshs_test_10, fars_test_10, label=\"False Acceptance Rate\")\n",
        "plt.plot(threshs_test_10, frrs_test_10, label=\"False Rejection Rate\")\n",
        "plt.xlabel(\"Threshold Value\")\n",
        "plt.ylabel(\"Rate\")\n",
        "plt.legend()\n",
        "plt.show()"
      ],
      "metadata": {
        "colab": {
          "base_uri": "https://localhost:8080/",
          "height": 295
        },
        "id": "XcFu1zOhIuvI",
        "outputId": "6181ac84-c25f-4af6-b7e5-cbbcf91975ab"
      },
      "execution_count": null,
      "outputs": [
        {
          "output_type": "display_data",
          "data": {
            "text/plain": [
              "<Figure size 432x288 with 1 Axes>"
            ],
            "image/png": "[encoded data removed]"
          },
          "metadata": {
            "needs_background": "light"
          }
        }
      ]
    },
    {
      "cell_type": "code",
      "execution_count": null,
      "metadata": {
        "id": "sLfFmCziIIJp",
        "colab": {
          "base_uri": "https://localhost:8080/"
        },
        "outputId": "28df76cf-f23b-465d-9467-7e1ecaf6845a"
      },
      "outputs": [
        {
          "output_type": "stream",
          "name": "stdout",
          "text": [
            "============ Epoch 1 / 10 ============\n",
            "Testing phase\n",
            "Batch 40 of 500. Elapsed 0:00:30\n",
            "Batch 80 of 500. Elapsed 0:01:01\n",
            "Batch 120 of 500. Elapsed 0:01:32\n",
            "Batch 160 of 500. Elapsed 0:02:02\n",
            "Batch 200 of 500. Elapsed 0:02:33\n",
            "Batch 240 of 500. Elapsed 0:03:03\n",
            "Batch 280 of 500. Elapsed 0:03:34\n",
            "Batch 320 of 500. Elapsed 0:04:04\n",
            "Batch 360 of 500. Elapsed 0:04:35\n",
            "Batch 400 of 500. Elapsed 0:05:06\n",
            "Batch 440 of 500. Elapsed 0:05:36\n",
            "Batch 480 of 500. Elapsed 0:06:07\n",
            "Epoch finished. Average test loss: 3.669348955154419\n",
            "============ Epoch 2 / 10 ============\n",
            "Testing phase\n",
            "Batch 40 of 500. Elapsed 0:00:31\n",
            "Batch 80 of 500. Elapsed 0:01:01\n",
            "Batch 120 of 500. Elapsed 0:01:32\n",
            "Batch 160 of 500. Elapsed 0:02:03\n",
            "Batch 200 of 500. Elapsed 0:02:33\n",
            "Batch 240 of 500. Elapsed 0:03:04\n",
            "Batch 280 of 500. Elapsed 0:03:35\n",
            "Batch 320 of 500. Elapsed 0:04:06\n",
            "Batch 360 of 500. Elapsed 0:04:36\n",
            "Batch 400 of 500. Elapsed 0:05:07\n",
            "Batch 440 of 500. Elapsed 0:05:37\n",
            "Batch 480 of 500. Elapsed 0:06:08\n",
            "Epoch finished. Average test loss: 1.7841287851333618\n",
            "============ Epoch 3 / 10 ============\n",
            "Testing phase\n",
            "Batch 40 of 500. Elapsed 0:00:31\n",
            "Batch 80 of 500. Elapsed 0:01:01\n",
            "Batch 120 of 500. Elapsed 0:01:32\n",
            "Batch 160 of 500. Elapsed 0:02:03\n",
            "Batch 200 of 500. Elapsed 0:02:34\n",
            "Batch 240 of 500. Elapsed 0:03:05\n",
            "Batch 280 of 500. Elapsed 0:03:36\n",
            "Batch 320 of 500. Elapsed 0:04:06\n",
            "Batch 360 of 500. Elapsed 0:04:37\n",
            "Batch 400 of 500. Elapsed 0:05:08\n",
            "Batch 440 of 500. Elapsed 0:05:38\n",
            "Batch 480 of 500. Elapsed 0:06:09\n",
            "Epoch finished. Average test loss: 1.6483731269836426\n",
            "============ Epoch 4 / 10 ============\n",
            "Testing phase\n",
            "Batch 40 of 500. Elapsed 0:00:31\n",
            "Batch 80 of 500. Elapsed 0:01:01\n",
            "Batch 120 of 500. Elapsed 0:01:32\n",
            "Batch 160 of 500. Elapsed 0:02:03\n",
            "Batch 200 of 500. Elapsed 0:02:34\n",
            "Batch 240 of 500. Elapsed 0:03:04\n",
            "Batch 280 of 500. Elapsed 0:03:35\n",
            "Batch 320 of 500. Elapsed 0:04:06\n",
            "Batch 360 of 500. Elapsed 0:04:37\n",
            "Batch 400 of 500. Elapsed 0:05:07\n",
            "Batch 440 of 500. Elapsed 0:05:38\n",
            "Batch 480 of 500. Elapsed 0:06:09\n",
            "Epoch finished. Average test loss: 1.7482861280441284\n",
            "============ Epoch 5 / 10 ============\n",
            "Testing phase\n",
            "Batch 40 of 500. Elapsed 0:00:31\n",
            "Batch 80 of 500. Elapsed 0:01:01\n",
            "Batch 120 of 500. Elapsed 0:01:32\n",
            "Batch 160 of 500. Elapsed 0:02:03\n",
            "Batch 200 of 500. Elapsed 0:02:34\n",
            "Batch 240 of 500. Elapsed 0:03:04\n",
            "Batch 280 of 500. Elapsed 0:03:36\n",
            "Batch 320 of 500. Elapsed 0:04:06\n",
            "Batch 360 of 500. Elapsed 0:04:37\n",
            "Batch 400 of 500. Elapsed 0:05:08\n",
            "Batch 440 of 500. Elapsed 0:05:39\n",
            "Batch 480 of 500. Elapsed 0:06:09\n",
            "Epoch finished. Average test loss: 2.025535821914673\n",
            "============ Epoch 6 / 10 ============\n",
            "Testing phase\n",
            "Batch 40 of 500. Elapsed 0:00:31\n",
            "Batch 80 of 500. Elapsed 0:01:01\n",
            "Batch 120 of 500. Elapsed 0:01:32\n",
            "Batch 160 of 500. Elapsed 0:02:03\n",
            "Batch 200 of 500. Elapsed 0:02:34\n",
            "Batch 240 of 500. Elapsed 0:03:05\n",
            "Batch 280 of 500. Elapsed 0:03:36\n",
            "Batch 320 of 500. Elapsed 0:04:07\n",
            "Batch 360 of 500. Elapsed 0:04:38\n",
            "Batch 400 of 500. Elapsed 0:05:08\n",
            "Batch 440 of 500. Elapsed 0:05:39\n",
            "Batch 480 of 500. Elapsed 0:06:10\n",
            "Epoch finished. Average test loss: 1.7660025358200073\n",
            "============ Epoch 7 / 10 ============\n",
            "Testing phase\n",
            "Batch 40 of 500. Elapsed 0:00:31\n",
            "Batch 80 of 500. Elapsed 0:01:02\n",
            "Batch 120 of 500. Elapsed 0:01:33\n",
            "Batch 160 of 500. Elapsed 0:02:04\n",
            "Batch 200 of 500. Elapsed 0:02:35\n",
            "Batch 240 of 500. Elapsed 0:03:05\n",
            "Batch 280 of 500. Elapsed 0:03:36\n",
            "Batch 320 of 500. Elapsed 0:04:07\n",
            "Batch 360 of 500. Elapsed 0:04:38\n",
            "Batch 400 of 500. Elapsed 0:05:08\n",
            "Batch 440 of 500. Elapsed 0:05:39\n",
            "Batch 480 of 500. Elapsed 0:06:10\n",
            "Epoch finished. Average test loss: 1.9058339595794678\n",
            "============ Epoch 8 / 10 ============\n",
            "Testing phase\n",
            "Batch 40 of 500. Elapsed 0:00:31\n",
            "Batch 80 of 500. Elapsed 0:01:02\n",
            "Batch 120 of 500. Elapsed 0:01:32\n",
            "Batch 160 of 500. Elapsed 0:02:03\n",
            "Batch 200 of 500. Elapsed 0:02:34\n",
            "Batch 240 of 500. Elapsed 0:03:04\n",
            "Batch 280 of 500. Elapsed 0:03:35\n",
            "Batch 320 of 500. Elapsed 0:04:06\n",
            "Batch 360 of 500. Elapsed 0:04:37\n",
            "Batch 400 of 500. Elapsed 0:05:08\n",
            "Batch 440 of 500. Elapsed 0:05:38\n",
            "Batch 480 of 500. Elapsed 0:06:09\n",
            "Epoch finished. Average test loss: 1.8559544086456299\n",
            "============ Epoch 9 / 10 ============\n",
            "Testing phase\n",
            "Batch 40 of 500. Elapsed 0:00:31\n",
            "Batch 80 of 500. Elapsed 0:01:01\n",
            "Batch 120 of 500. Elapsed 0:01:32\n",
            "Batch 160 of 500. Elapsed 0:02:03\n",
            "Batch 200 of 500. Elapsed 0:02:34\n",
            "Batch 240 of 500. Elapsed 0:03:05\n",
            "Batch 280 of 500. Elapsed 0:03:35\n",
            "Batch 320 of 500. Elapsed 0:04:06\n",
            "Batch 360 of 500. Elapsed 0:04:37\n",
            "Batch 400 of 500. Elapsed 0:05:07\n",
            "Batch 440 of 500. Elapsed 0:05:38\n",
            "Batch 480 of 500. Elapsed 0:06:09\n",
            "Epoch finished. Average test loss: 2.1089377403259277\n",
            "============ Epoch 10 / 10 ============\n",
            "Testing phase\n",
            "Batch 40 of 500. Elapsed 0:00:31\n",
            "Batch 80 of 500. Elapsed 0:01:02\n",
            "Batch 120 of 500. Elapsed 0:01:33\n",
            "Batch 160 of 500. Elapsed 0:02:03\n",
            "Batch 200 of 500. Elapsed 0:02:34\n",
            "Batch 240 of 500. Elapsed 0:03:05\n",
            "Batch 280 of 500. Elapsed 0:03:35\n",
            "Batch 320 of 500. Elapsed 0:04:06\n",
            "Batch 360 of 500. Elapsed 0:04:37\n",
            "Batch 400 of 500. Elapsed 0:05:08\n",
            "Batch 440 of 500. Elapsed 0:05:38\n",
            "Batch 480 of 500. Elapsed 0:06:09\n",
            "Epoch finished. Average test loss: 2.1481235027313232\n"
          ]
        }
      ],
      "source": [
        "for epoch in range(NUM_EPOCHS):\n",
        "  embedder_path = os.path.join(CHECKPT_DIR, \"checkpt-embedder-{}.pt\".format(epoch+1))\n",
        "  lossmodule_path = os.path.join(CHECKPT_DIR, \"checkpt-lossmodule-{}.pt\".format(epoch+1))\n",
        "  embedder.load_state_dict(torch.load(embedder_path))\n",
        "  lossmodule.load_state_dict(torch.load(lossmodule_path))\n",
        "  embedder.eval()\n",
        "  lossmodule.eval()\n",
        "  epoch_loss = 0\n",
        "  print(\"============ Epoch {} / {} ============\".format(epoch+1, NUM_EPOCHS))\n",
        "  print(\"Testing phase\")\n",
        "  epoch_start = time.time()\n",
        "  with torch.no_grad():\n",
        "    for step, batch in enumerate(test_dataloader):\n",
        "      batch = batch.to(device)\n",
        "      if step % 40 == 0 and step != 0:\n",
        "        elapsed = format_time(time.time() - epoch_start)\n",
        "        print(\"Batch {} of {}. Elapsed {}\".format(step, len(test_dataloader), elapsed))\n",
        "      N = batch.shape[1]\n",
        "      M = batch.shape[2]\n",
        "      embedder_in = batch.reshape(BATCH_SIZE*N*M, batch.shape[3], batch.shape[4])\n",
        "      embeddings = embedder(embedder_in)\n",
        "      embeddings = embeddings.reshape(BATCH_SIZE, N, M, n_projection)\n",
        "      loss = lossmodule(embeddings)\n",
        "      epoch_loss += loss.detach()\n",
        "  epoch_loss /= BATCH_SIZE * len(test_dataloader)\n",
        "  print(\"Epoch finished. Average test loss: {}\".format(epoch_loss))"
      ]
    },
    {
      "cell_type": "code",
      "execution_count": null,
      "metadata": {
        "id": "Z7TtgwZEKgOR",
        "colab": {
          "base_uri": "https://localhost:8080/",
          "height": 295
        },
        "outputId": "863d91e9-d3d0-47b8-a77a-011db8f06be9"
      },
      "outputs": [
        {
          "output_type": "display_data",
          "data": {
            "text/plain": [
              "<Figure size 432x288 with 1 Axes>"
            ],
            "image/png": "[encoded data removed]"
          },
          "metadata": {
            "needs_background": "light"
          }
        }
      ],
      "source": [
        "# Training was done across multiple sessions, so the loss values had to be manually noted (saving and restoring was\n",
        "# possible but cumbersome)\n",
        "train_loss = [8.047670364379883,  2.1487631797790527, 0.5052888989448547, 0.2430151402950287, 0.1387273371219635, \\\n",
        "  0.09182605892419815, 0.06090567633509636, 0.0455281063914299, 0.03941136971116066, 0.03146157041192055]\n",
        "plt.plot(list(range(1,11)), train_loss, label=\"Training Loss\")\n",
        "plt.xlabel(\"Epoch (each 80k iterations)\")\n",
        "plt.ylabel(\"Training Loss\")\n",
        "plt.title(\"Training Loss v/s Epochs\")\n",
        "val_loss = [3.669348955154419, 1.7841287851333618, 1.6483731269836426, 1.7482861280441284, 2.025535821914673, \\\n",
        "  1.7660025358200073, 1.9058339595794678, 1.8559544086456299, 2.1089377403259277, 2.1481235027313232]\n",
        "plt.plot(list(range(1,11)), val_loss, label=\"Validation Loss\")\n",
        "plt.xlabel(\"Epoch (each 80k iterations)\")\n",
        "plt.ylabel(\"Validation Loss\")\n",
        "plt.title(\"Validation Loss v/s Epochs\")\n",
        "plt.legend()\n",
        "plt.show()"
      ]
    },
    {
      "cell_type": "code",
      "source": [
        ""
      ],
      "metadata": {
        "id": "ow34W0IFLKkh"
      },
      "execution_count": null,
      "outputs": []
    }
  ],
  "metadata": {
    "accelerator": "GPU",
    "colab": {
      "collapsed_sections": [],
      "name": "SpeakerVerification.ipynb",
      "provenance": []
    },
    "kernelspec": {
      "display_name": "Python 3",
      "name": "python3"
    },
    "language_info": {
      "name": "python"
    }
  },
  "nbformat": 4,
  "nbformat_minor": 0
}